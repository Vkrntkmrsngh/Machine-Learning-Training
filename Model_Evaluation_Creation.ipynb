{
 "cells": [
  {
   "cell_type": "code",
   "execution_count": 126,
   "metadata": {},
   "outputs": [
    {
     "name": "stdout",
     "output_type": "stream",
     "text": [
      "..\\src\\data\\get_model_file.py\n"
     ]
    }
   ],
   "source": [
    "create_model_script_file=os.path.join(os.path.pardir,'src','data','get_model_file.py')\n",
    "print(create_model_script_file)"
   ]
  },
  {
   "cell_type": "code",
   "execution_count": 133,
   "metadata": {},
   "outputs": [
    {
     "name": "stdout",
     "output_type": "stream",
     "text": [
      "Overwriting ..\\src\\data\\get_model_file.py\n"
     ]
    }
   ],
   "source": [
    "%%writefile $create_model_script_file\n",
    "\n",
    "import os\n",
    "import pickle\n",
    "import pandas as pd\n",
    "from sklearn.preprocessing import StandardScaler\n",
    "from sklearn.model_selection import train_test_split\n",
    "from sklearn.linear_model import LogisticRegression\n",
    "from sklearn.ensemble import RandomForestClassifier\n",
    "from sklearn.metrics import confusion_matrix,accuracy_score\n",
    "\n",
    "def read_data():\n",
    "    \n",
    "    processed_data_path=os.path.join(os.path.pardir,'data','processed')\n",
    "    train_data_path=os.path.join(processed_data_path,'train.csv')\n",
    "    train_data_processed=pd.read_csv(train_data_path,index_col='RowNumber')\n",
    "\n",
    "    X=train_data_processed.iloc[:,:-1]\n",
    "    y=train_data_processed.iloc[:,-1]\n",
    "\n",
    "    return train_test_split(X,y,test_size=0.2,random_state=0)\n",
    "\n",
    "def standard_scaling(X_train,X_test):\n",
    "    sc=StandardScaler()\n",
    "\n",
    "    return sc.fit_transform(X_train),sc.fit_transform(X_test)\n",
    "\n",
    "def model_training(X_train,y_train,X_test,algo_name,save_model=False):\n",
    "    model_file_name='customer_predictor_'+algo_name+'_model.pkl'\n",
    "    model_path=os.path.join(os.path.pardir,'models')\n",
    "    model_file_path=os.path.join(model_path,model_file_name)\n",
    "    \n",
    "    if algo_name == 'LogisticRegression':\n",
    "        model=LogisticRegression()\n",
    "        model.fit(X_train,y_train)\n",
    "        y_predicted=model.predict(X_test)\n",
    "        \n",
    "        if save_model:\n",
    "            model_file_pickle=open(model_file_path,'wb')\n",
    "            pickle.dump(model,model_file_pickle)\n",
    "            model_file_pickle.close()\n",
    "        \n",
    "        \n",
    "    elif algo_name == 'RandomForest':\n",
    "        print('Inside Randomforest')\n",
    "        model=RandomForestClassifier(n_estimators=10 ,random_state=0)\n",
    "        model.fit(X_train,y_train)\n",
    "        y_predicted=model.predict(X_test)\n",
    "        print('Done modeling of Randomforest')\n",
    "        print(model_file_path)\n",
    "        if save_model:\n",
    "            model_file_pickle=open(model_file_path,'wb')\n",
    "            pickle.dump(model,model_file_pickle)\n",
    "            model_file_pickle.close()\n",
    "        print('Done saving model')\n",
    "       \n",
    "    return y_predicted\n",
    "\n",
    "def model_evaluation(y_test,y_predicted,algo_name):\n",
    "    if algo_name == 'LogisticRegression':\n",
    "        confusion_metric=confusion_matrix(y_test,y_predicted)\n",
    "        accuracy_value=accuracy_score(y_test,y_predicted)\n",
    "        \n",
    "    elif algo_name == 'RandomForest':\n",
    "        confusion_metric=confusion_matrix(y_test,y_predicted)\n",
    "        accuracy_value=accuracy_score(y_test,y_predicted)\n",
    "        \n",
    "    return confusion_metric,accuracy_value\n",
    "\n",
    "\n",
    "\n",
    "if __name__=='__main__':\n",
    "    X_train,X_test,y_train,y_test=read_data()\n",
    "    X_train,X_test=standard_scaling(X_train,X_test)\n",
    "    algo_name=input('Please Provide Algorithm Name to apply on data')\n",
    "    y_predicted=model_training(X_train,y_train,X_test,algo_name,save_model=True)\n",
    "    confusion_value,accuracy_value= model_evaluation(y_test,y_predicted,algo_name)\n",
    "    print(confusion_value)\n",
    "    print(accuracy_value)"
   ]
  },
  {
   "cell_type": "code",
   "execution_count": null,
   "metadata": {},
   "outputs": [],
   "source": [
    "!python $create_model_script_file"
   ]
  },
  {
   "cell_type": "code",
   "execution_count": null,
   "metadata": {},
   "outputs": [],
   "source": []
  }
 ],
 "metadata": {
  "kernelspec": {
   "display_name": "Python 3",
   "language": "python",
   "name": "python3"
  },
  "language_info": {
   "codemirror_mode": {
    "name": "ipython",
    "version": 3
   },
   "file_extension": ".py",
   "mimetype": "text/x-python",
   "name": "python",
   "nbconvert_exporter": "python",
   "pygments_lexer": "ipython3",
   "version": "3.7.0"
  }
 },
 "nbformat": 4,
 "nbformat_minor": 2
}
